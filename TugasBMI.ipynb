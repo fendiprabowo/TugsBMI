{
 "cells": [
  {
   "cell_type": "code",
   "execution_count": null,
   "metadata": {},
   "outputs": [],
   "source": [
    "# Tugas BMI\n",
    "\n",
    "weight = 55\n",
    "heightcm = 165\n",
    "height=heightcm / 100\n",
    "\n",
    "bmi = weight / (height**2)\n",
    "\n",
    "if bmi < 15:\n",
    "    print (\"very severely underweight\")\n",
    "elif bmi >= 15 and bmi < 16:\n",
    "    print (\"Severely underweight\")\n",
    "elif bmi >= 16 and bmi < 18.5:\n",
    "    print(\"Underweight\")\n",
    "elif bmi >= 18.5 and bmi < 25:\n",
    "    print(\"Normal (healthy weght)\")\n",
    "elif bmi >= 25 and bmi < 30:\n",
    "    print(\"Overweight\")\n",
    "elif bmi >= 30 and bmi <35:\n",
    "    print (\"Moderately obese\")\n",
    "elif bmi >= 35 and bmi < 40:\n",
    "    print (\"Severely obese\")\n",
    "else:\n",
    "    print(\"Very severely obese\")\n"
   ]
  }
 ],
 "metadata": {
  "kernelspec": {
   "display_name": "Python 3",
   "language": "python",
   "name": "python3"
  },
  "language_info": {
   "codemirror_mode": {
    "name": "ipython",
    "version": 3
   },
   "file_extension": ".py",
   "mimetype": "text/x-python",
   "name": "python",
   "nbconvert_exporter": "python",
   "pygments_lexer": "ipython3",
   "version": "3.7.0"
  }
 },
 "nbformat": 4,
 "nbformat_minor": 2
}
